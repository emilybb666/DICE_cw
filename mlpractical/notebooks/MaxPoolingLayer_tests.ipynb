{
 "cells": [
  {
   "cell_type": "code",
   "execution_count": 10,
   "metadata": {},
   "outputs": [],
   "source": [
    "import numpy as np\n",
    "from mlp.layers import MaxPooling2DLayer\n",
    "test_correct_target = np.load(\"../data/max_pooling_correct.npz\")\n",
    "test_inputs = test_correct_target['test_inputs']\n",
    "test_grads_wrt_outputs = test_correct_target['test_grads_wrt_outputs']\n",
    "layer_to_test = MaxPooling2DLayer(input_height=test_inputs.shape[2], input_width=test_inputs.shape[3], size=2, stride=2)\n",
    "fprop_preds = layer_to_test.fprop(inputs=test_inputs)\n",
    "bprop_preds = layer_to_test.bprop(inputs=test_inputs, outputs=fprop_preds, grads_wrt_outputs=test_grads_wrt_outputs)"
   ]
  },
  {
   "cell_type": "code",
   "execution_count": 11,
   "metadata": {},
   "outputs": [
    {
     "name": "stdout",
     "output_type": "stream",
     "text": [
      "Passed fprop test\n",
      "Passed bprop test\n"
     ]
    }
   ],
   "source": [
    "fprop_accuracy = np.mean(np.allclose(test_correct_target['fprop_correct'], fprop_preds))\n",
    "bprop_accuracy = np.mean(np.allclose(test_correct_target['bprop_correct'], bprop_preds))\n",
    "\n",
    "if fprop_accuracy == 1.0:\n",
    "    print(\"Passed fprop test\")\n",
    "else:\n",
    "    print(\"Failed fprop test, correct outputs: {}, predicted_outputs: {}\".format(test_correct_target['fprop_correct'], fprop_preds))\n",
    "\n",
    "if bprop_accuracy == 1.0:\n",
    "    print(\"Passed bprop test\")\n",
    "else:\n",
    "    print(\"Failed bprop test, correct grads: {}, predicted grads: {}\".format(test_correct_target['bprop_correct'], bprop_preds))"
   ]
  },
  {
   "cell_type": "code",
   "execution_count": null,
   "metadata": {},
   "outputs": [],
   "source": []
  }
 ],
 "metadata": {
  "anaconda-cloud": {},
  "kernelspec": {
   "display_name": "Python 3",
   "language": "python",
   "name": "python3"
  },
  "language_info": {
   "codemirror_mode": {
    "name": "ipython",
    "version": 3
   },
   "file_extension": ".py",
   "mimetype": "text/x-python",
   "name": "python",
   "nbconvert_exporter": "python",
   "pygments_lexer": "ipython3",
   "version": "3.6.6"
  }
 },
 "nbformat": 4,
 "nbformat_minor": 1
}
